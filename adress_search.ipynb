{
 "cells": [
  {
   "cell_type": "code",
   "execution_count": 33,
   "metadata": {},
   "outputs": [],
   "source": [
    "import pandas as pd\n",
    "import pyodbc\n",
    "from sqlpush.sqlstd import *\n",
    "from sqlpush.config import *"
   ]
  },
  {
   "cell_type": "code",
   "execution_count": 49,
   "metadata": {},
   "outputs": [
    {
     "data": {
      "text/plain": [
       "94"
      ]
     },
     "execution_count": 49,
     "metadata": {},
     "output_type": "execute_result"
    }
   ],
   "source": [
    "# how to fuzzy match : \n",
    "from fuzzywuzzy import fuzz\n",
    "from fuzzywuzzy import process\n",
    "fuzz.token_sort_ratio(\"Catherine Gitau M.\", \"Gitau Catherine\")\n"
   ]
  },
  {
   "cell_type": "code",
   "execution_count": 35,
   "metadata": {},
   "outputs": [],
   "source": [
    "# Prepare connection\n",
    "cursor, conn = connectdb(config)\n",
    "\n",
    "\n",
    "# Get DB columns names\n",
    "tablecol = getcolumnnames(cursor, \"belgium_addresses\", \"dbo\")"
   ]
  },
  {
   "cell_type": "code",
   "execution_count": 41,
   "metadata": {},
   "outputs": [],
   "source": [
    "def getdata(cursor):\n",
    "    query = \"SELECT * FROM belgium_addresses \"\n",
    "    cursor.execute(query)\n",
    "    tablecol = [i[0] for i in cursor.fetchall()]\n",
    "    return tablecol"
   ]
  },
  {
   "cell_type": "code",
   "execution_count": 42,
   "metadata": {},
   "outputs": [],
   "source": [
    "# get to know who to do all those sql quetires\n",
    "# fuzzy matching\n",
    "#implement lisa's algorithm"
   ]
  },
  {
   "cell_type": "code",
   "execution_count": null,
   "metadata": {},
   "outputs": [],
   "source": []
  }
 ],
 "metadata": {
  "kernelspec": {
   "display_name": "Python 3.9.7 ('lstm_env')",
   "language": "python",
   "name": "python3"
  },
  "language_info": {
   "codemirror_mode": {
    "name": "ipython",
    "version": 3
   },
   "file_extension": ".py",
   "mimetype": "text/x-python",
   "name": "python",
   "nbconvert_exporter": "python",
   "pygments_lexer": "ipython3",
   "version": "3.9.7"
  },
  "orig_nbformat": 4,
  "vscode": {
   "interpreter": {
    "hash": "9a538a63f4ba9332b05e2a8df6b9e4a9f95fb4c949297fa78530a4e8c1bbc197"
   }
  }
 },
 "nbformat": 4,
 "nbformat_minor": 2
}
