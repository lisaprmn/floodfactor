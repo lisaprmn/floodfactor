{
 "cells": [
  {
   "cell_type": "code",
   "execution_count": 33,
   "metadata": {},
   "outputs": [],
   "source": [
    "import pandas as pd\n",
    "import pyodbc\n",
    "from sqlpush.sqlstd import *\n",
    "from sqlpush.config import *"
   ]
  },
  {
   "cell_type": "code",
   "execution_count": 49,
   "metadata": {},
   "outputs": [
    {
     "data": {
      "text/plain": [
       "94"
      ]
     },
     "execution_count": 49,
     "metadata": {},
     "output_type": "execute_result"
    }
   ],
   "source": [
    "# how to fuzzy match : \n",
    "from fuzzywuzzy import fuzz\n",
    "from fuzzywuzzy import process\n",
    "fuzz.token_sort_ratio(\"Catherine Gitau M.\", \"Gitau Catherine\")\n",
    "fuzz.partial_ratio(\"Catherine M. Gitau\",\"Catherine Gitau\")"
   ]
  },
  {
   "cell_type": "code",
   "execution_count": 35,
   "metadata": {},
   "outputs": [],
   "source": [
    "# Prepare connection\n",
    "cursor, conn = connectdb(config)"
   ]
  },
  {
   "cell_type": "code",
   "execution_count": 95,
   "metadata": {},
   "outputs": [],
   "source": [
    "# let's define all the needed functions\n",
    "\n",
    "def getdata(cursor):\n",
    "    query = \"SELECT * FROM belgium_addresses \"\n",
    "    cursor.execute(query)\n",
    "    tablecol = [i[0] for i in cursor.fetchall()]\n",
    "    return tablecol\n",
    "\n",
    "\n",
    "def get_street_id_from_postcode(cursor, postcode):\n",
    "    query = \"SELECT street_id FROM belgium_streets WHERE postcode = '%s'\" %(postcode)\n",
    "    cursor.execute(query)\n",
    "    tablecol = [i[0] for i in cursor.fetchall()]\n",
    "    return tablecol\n",
    "\n",
    "def get_language(streetname):\n",
    "    streetname = streetname.lower()\n",
    "    language = \"None\"\n",
    "    if \"straat\" in streetname :\n",
    "        language = \"NL\"\n",
    "    elif \"laan\" in streetname :\n",
    "        language = \"NL\"\n",
    "    elif \"rue\" in streetname :\n",
    "        language = \"FR\"\n",
    "    elif \"avenue\" in streetname :\n",
    "        language = \"FR\"\n",
    "    elif \"boulevard\" in streetname :\n",
    "        language = \"FR\"\n",
    "    elif \"square \" in streetname :\n",
    "        language = \"FR\"\n",
    "    elif \"allées\" in streetname :\n",
    "        language = \"FR\"\n",
    "    else : \n",
    "        language = \"None\"\n",
    "    return language\n",
    "\n",
    "def get_street_names_from_postcode_lg(cursor, postcode, language):\n",
    "    if language == \"FR\" :\n",
    "        query = \"SELECT streetname_fr FROM belgium_streets WHERE postcode = '%s'\" %(postcode)\n",
    "        cursor.execute(query)\n",
    "        tablecol = [i[0] for i in cursor.fetchall()]\n",
    "    elif language == \"NL\" :\n",
    "        query = \"SELECT streetname_nl FROM belgium_streets WHERE postcode = '%s'\" %(postcode)\n",
    "        cursor.execute(query)\n",
    "        tablecol = [i[0] for i in cursor.fetchall()]\n",
    "    else : \n",
    "        query = \"SELECT streetname_fr, streetname_nl FROM belgium_streets WHERE postcode = '%s'\" %(postcode)\n",
    "        cursor.execute(query)\n",
    "        tablecol = cursor.fetchall()\n",
    "    return tablecol\n",
    "\n",
    "# I need a function that will take a list of names as input and a search term\n",
    "# will build another list with fuzzy match score, and return the value with the highest score\n",
    "def get_best_matching(list_of_streets, term) :\n",
    "    scores = []\n",
    "    for element in list_of_streets : \n",
    "        scores.append(fuzz.token_sort_ratio(element, term))\n",
    "    return scores\n",
    "\n",
    "# takes as input a 2D list, outupts a 1D list\n",
    "def transform_list(street_n_list) : \n",
    "    total_list = []\n",
    "    for element in street_n_list : \n",
    "        total_list.append(element[0])\n",
    "        total_list.append(element[1])\n",
    "\n",
    "def get_best_address_given_scores(scores, list_of_streets):\n",
    "    max_value = max(scores) \n",
    "    max_index = scores. index(max_value)\n",
    "    return list_of_streets[max_index]\n",
    "\n",
    "def get_street_ids_give_name(street_name, language) :\n",
    "    if language == \"FR\" :\n",
    "        query = \"SELECT street_id FROM belgium_streets WHERE streetname_fr = '%s'\" %(street_name)\n",
    "        cursor.execute(query)\n",
    "        tablecol = [i[0] for i in cursor.fetchall()]\n",
    "        return tablecol\n",
    "    elif language == \"NL\" : \n",
    "        query = \"SELECT street_id FROM belgium_streets WHERE streetname_nl = '%s'\" %(street_name)\n",
    "        cursor.execute(query)\n",
    "        tablecol = [i[0] for i in cursor.fetchall()]\n",
    "        return tablecol\n",
    "    else :  \n",
    "        query = \"SELECT street_id FROM belgium_streets WHERE streetname_nl = '%s' OR streetname_fr = '%s'\" %(street_name)\n",
    "        cursor.execute(query)\n",
    "        tablecol = [i[0] for i in cursor.fetchall()]\n",
    "        return tablecol\n",
    "\n",
    "def get_address_info(street_id, house_number) : \n",
    "    query = \"SELECT * FROM belgium_addresses WHERE street_id = '%s' AND house_number = '%s' AND status <> 'retired'\" %(street_id, house_number)\n",
    "    cursor.execute(query)\n",
    "    tablecol = cursor.fetchall()\n",
    "    return tablecol\n",
    "\n",
    "def get_address_info_wou_housenb(street_id) : \n",
    "    query = \"SELECT * FROM belgium_addresses WHERE street_id = '%s' AND status <> 'retired'\" %(street_id)\n",
    "    cursor.execute(query)\n",
    "    tablecol = cursor.fetchall()\n",
    "    return tablecol"
   ]
  },
  {
   "cell_type": "code",
   "execution_count": 71,
   "metadata": {},
   "outputs": [],
   "source": [
    "# let's implement the algorithm\n",
    "\n",
    "# take the inputs : postcode, streetname and house number\n",
    "postcode = input(\"Ener postcode : \")\n",
    "streetname = input(\"Enter streetname : \")\n",
    "house_number = input(\"Enter house number : \")"
   ]
  },
  {
   "cell_type": "code",
   "execution_count": 72,
   "metadata": {},
   "outputs": [],
   "source": [
    "street_ids = get_street_id_from_postcode(cursor, \"1040\")"
   ]
  },
  {
   "cell_type": "code",
   "execution_count": 84,
   "metadata": {},
   "outputs": [],
   "source": [
    "best_street_match = \"\"\n",
    "language = get_language(streetname)\n",
    "if language == \"None\" : \n",
    "    sn_none = get_street_names_from_postcode_lg(cursor, postcode, language)\n",
    "    sn_none = transform_list(sn_none)\n",
    "    scores = get_best_matching(sn_none, streetname)\n",
    "    best_street_match = get_best_address_given_scores(scores, sn_none)\n",
    "else : \n",
    "    sn = get_street_names_from_postcode_lg(cursor, postcode, language)\n",
    "    scores = get_best_matching(sn, streetname)\n",
    "    best_street_match = get_best_address_given_scores(scores, sn)\n",
    "street_ids = get_street_ids_give_name(best_street_match, language)"
   ]
  },
  {
   "cell_type": "code",
   "execution_count": 98,
   "metadata": {},
   "outputs": [
    {
     "name": "stdout",
     "output_type": "stream",
     "text": [
      "No data was found given the street id and house number, but here is what we can find without the house number\n",
      "[(151710.989, 169543.569, 50.83630552324996, 4.39304161611346, 149842, None, '213', 21005, None, 'Etterbeek', 'Etterbeek', 1040, 'Etterbeek + Bruxelles (Europe)', 'Etterbeek + Brussel (Europa)', 2266, None, 'Rue Louis Hap', 'Louis Hapstraat', 'BE-BRU', 'current'), (151739.319, 169585.359, 50.836681109629325, 4.3934439971063854, 162249, None, '198', 21005, None, 'Etterbeek', 'Etterbeek', 1040, 'Etterbeek + Bruxelles (Europe)', 'Etterbeek + Brussel (Europa)', 2266, None, 'Rue Louis Hap', 'Louis Hapstraat', 'BE-BRU', 'current'), (151722.239, 169548.069, 50.83634594203743, 4.39320134493499, 149840, None, '217', 21005, None, 'Etterbeek', 'Etterbeek', 1040, 'Etterbeek + Bruxelles (Europe)', 'Etterbeek + Brussel (Europa)', 2266, None, 'Rue Louis Hap', 'Louis Hapstraat', 'BE-BRU', 'current'), (151389.119, 169409.448, 50.83510072164059, 4.388471763405898, 211502, None, '119', 21005, None, 'Etterbeek', 'Etterbeek', 1040, 'Etterbeek + Bruxelles (Europe)', 'Etterbeek + Brussel (Europa)', 2266, None, 'Rue Louis Hap', 'Louis Hapstraat', 'BE-BRU', 'current'), (151426.938, 169426.577, 50.83525460880078, 4.389008704150207, 41272, None, '129', 21005, None, 'Etterbeek', 'Etterbeek', 1040, 'Etterbeek + Bruxelles (Europe)', 'Etterbeek + Brussel (Europa)', 2266, None, 'Rue Louis Hap', 'Louis Hapstraat', 'BE-BRU', 'current'), (151700.059, 169539.199, 50.83626627192273, 4.392886430962019, 37711, None, '209', 21005, None, 'Etterbeek', 'Etterbeek', 1040, 'Etterbeek + Bruxelles (Europe)', 'Etterbeek + Brussel (Europa)', 2266, None, 'Rue Louis Hap', 'Louis Hapstraat', 'BE-BRU', 'current'), (151266.331, 169416.717, 50.83516635704303, 4.386728711573057, 213562, None, '70', 21005, None, 'Etterbeek', 'Etterbeek', 1040, 'Etterbeek + Bruxelles (Europe)', 'Etterbeek + Brussel (Europa)', 2266, None, 'Rue Louis Hap', 'Louis Hapstraat', 'BE-BRU', 'current'), (151634.179, 169542.439, 50.83629559228442, 4.391951201208708, 192301, None, '164', 21005, None, 'Etterbeek', 'Etterbeek', 1040, 'Etterbeek + Bruxelles (Europe)', 'Etterbeek + Brussel (Europa)', 2266, None, 'Rue Louis Hap', 'Louis Hapstraat', 'BE-BRU', 'current'), (151155.009, 169383.639, 50.83486924193272, 4.385148292944144, 201618, None, '45', 21005, None, 'Etterbeek', 'Etterbeek', 1040, 'Etterbeek + Bruxelles (Europe)', 'Etterbeek + Brussel (Europa)', 2266, None, 'Rue Louis Hap', 'Louis Hapstraat', 'BE-BRU', 'current'), (151710.989, 169543.569, 50.83630552324996, 4.39304161611346, 149842, None, '213', 21005, None, 'Etterbeek', 'Etterbeek', 1040, 'Etterbeek + Bruxelles (Europe)', 'Etterbeek + Brussel (Europa)', 2266, None, 'Rue Louis Hap', 'Louis Hapstraat', 'BE-BRU', 'current'), (151739.319, 169585.359, 50.836681109629325, 4.3934439971063854, 162249, None, '198', 21005, None, 'Etterbeek', 'Etterbeek', 1040, 'Etterbeek + Bruxelles (Europe)', 'Etterbeek + Brussel (Europa)', 2266, None, 'Rue Louis Hap', 'Louis Hapstraat', 'BE-BRU', 'current'), (151722.239, 169548.069, 50.83634594203743, 4.39320134493499, 149840, None, '217', 21005, None, 'Etterbeek', 'Etterbeek', 1040, 'Etterbeek + Bruxelles (Europe)', 'Etterbeek + Brussel (Europa)', 2266, None, 'Rue Louis Hap', 'Louis Hapstraat', 'BE-BRU', 'current'), (151389.119, 169409.448, 50.83510072164059, 4.388471763405898, 211502, None, '119', 21005, None, 'Etterbeek', 'Etterbeek', 1040, 'Etterbeek + Bruxelles (Europe)', 'Etterbeek + Brussel (Europa)', 2266, None, 'Rue Louis Hap', 'Louis Hapstraat', 'BE-BRU', 'current'), (151426.938, 169426.577, 50.83525460880078, 4.389008704150207, 41272, None, '129', 21005, None, 'Etterbeek', 'Etterbeek', 1040, 'Etterbeek + Bruxelles (Europe)', 'Etterbeek + Brussel (Europa)', 2266, None, 'Rue Louis Hap', 'Louis Hapstraat', 'BE-BRU', 'current'), (151700.059, 169539.199, 50.83626627192273, 4.392886430962019, 37711, None, '209', 21005, None, 'Etterbeek', 'Etterbeek', 1040, 'Etterbeek + Bruxelles (Europe)', 'Etterbeek + Brussel (Europa)', 2266, None, 'Rue Louis Hap', 'Louis Hapstraat', 'BE-BRU', 'current'), (151266.331, 169416.717, 50.83516635704303, 4.386728711573057, 213562, None, '70', 21005, None, 'Etterbeek', 'Etterbeek', 1040, 'Etterbeek + Bruxelles (Europe)', 'Etterbeek + Brussel (Europa)', 2266, None, 'Rue Louis Hap', 'Louis Hapstraat', 'BE-BRU', 'current'), (151634.179, 169542.439, 50.83629559228442, 4.391951201208708, 192301, None, '164', 21005, None, 'Etterbeek', 'Etterbeek', 1040, 'Etterbeek + Bruxelles (Europe)', 'Etterbeek + Brussel (Europa)', 2266, None, 'Rue Louis Hap', 'Louis Hapstraat', 'BE-BRU', 'current'), (151155.009, 169383.639, 50.83486924193272, 4.385148292944144, 201618, None, '45', 21005, None, 'Etterbeek', 'Etterbeek', 1040, 'Etterbeek + Bruxelles (Europe)', 'Etterbeek + Brussel (Europa)', 2266, None, 'Rue Louis Hap', 'Louis Hapstraat', 'BE-BRU', 'current')]\n"
     ]
    }
   ],
   "source": [
    "info = get_address_info(street_ids[0], house_number)    \n",
    "if len(info) == 1 : \n",
    "    # best case\n",
    "    coordinates_x = info[0]\n",
    "    coordinates_y = info[1]\n",
    "    print(\"Here are the coordinates : \")\n",
    "    print(coordinates_x)\n",
    "    print(coordinates_y)\n",
    "elif len(info) == 0 : \n",
    "    print(\"No data was found given the street id and house number, but here is what we can find without the house number : \")\n",
    "    info_wo = get_address_info_wou_housenb(street_ids[0])\n",
    "    print(info_wo)\n",
    "else : \n",
    "    print(\"Unusual result, but let's print it out : \")\n",
    "    print(info)\n"
   ]
  },
  {
   "cell_type": "code",
   "execution_count": null,
   "metadata": {},
   "outputs": [],
   "source": []
  }
 ],
 "metadata": {
  "kernelspec": {
   "display_name": "Python 3.9.7 ('lstm_env')",
   "language": "python",
   "name": "python3"
  },
  "language_info": {
   "codemirror_mode": {
    "name": "ipython",
    "version": 3
   },
   "file_extension": ".py",
   "mimetype": "text/x-python",
   "name": "python",
   "nbconvert_exporter": "python",
   "pygments_lexer": "ipython3",
   "version": "3.9.7"
  },
  "orig_nbformat": 4,
  "vscode": {
   "interpreter": {
    "hash": "9a538a63f4ba9332b05e2a8df6b9e4a9f95fb4c949297fa78530a4e8c1bbc197"
   }
  }
 },
 "nbformat": 4,
 "nbformat_minor": 2
}
