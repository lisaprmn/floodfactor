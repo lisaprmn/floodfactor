{
 "cells": [
  {
   "cell_type": "code",
   "execution_count": 4,
   "metadata": {},
   "outputs": [],
   "source": [
    "import pandas as pd\n",
    "import pyodbc\n",
    "from sqlpush.sqlstd import *\n",
    "from sqlpush.config import *\n",
    "from tabulate import tabulate"
   ]
  },
  {
   "cell_type": "code",
   "execution_count": 5,
   "metadata": {},
   "outputs": [],
   "source": [
    "# how to fuzzy match : \n",
    "from fuzzywuzzy import fuzz\n",
    "from fuzzywuzzy import process"
   ]
  },
  {
   "cell_type": "code",
   "execution_count": 6,
   "metadata": {},
   "outputs": [],
   "source": [
    "# Prepare connection\n",
    "cursor, conn = connectdb(config)"
   ]
  },
  {
   "cell_type": "code",
   "execution_count": 47,
   "metadata": {},
   "outputs": [],
   "source": [
    "# let's define all the needed functions\n",
    "\n",
    "def getdata(cursor):\n",
    "    query = \"SELECT * FROM belgium_addresses \"\n",
    "    cursor.execute(query)\n",
    "    tablecol = [i[0] for i in cursor.fetchall()]\n",
    "    return tablecol\n",
    "\n",
    "\n",
    "def get_street_id_from_postcode(cursor, postcode):\n",
    "    query = \"SELECT street_id FROM belgium_streets WHERE postcode = '%s'\" %(postcode)\n",
    "    cursor.execute(query)\n",
    "    tablecol = [i[0] for i in cursor.fetchall()]\n",
    "    return tablecol\n",
    "\n",
    "def get_language(streetname):\n",
    "    streetname = streetname.lower()\n",
    "    language = \"None\"\n",
    "    if \"straat\" in streetname :\n",
    "        language = \"NL\"\n",
    "    elif \"laan\" in streetname :\n",
    "        language = \"NL\"\n",
    "    elif \"rue\" in streetname :\n",
    "        language = \"FR\"\n",
    "    elif \"avenue\" in streetname :\n",
    "        language = \"FR\"\n",
    "    elif \"boulevard\" in streetname :\n",
    "        language = \"FR\"\n",
    "    elif \"square \" in streetname :\n",
    "        language = \"FR\"\n",
    "    elif \"allées\" in streetname :\n",
    "        language = \"FR\"\n",
    "    else : \n",
    "        language = \"None\"\n",
    "    return language\n",
    "\n",
    "def get_street_names_from_postcode_lg(cursor, postcode, language):\n",
    "    if language == \"FR\" :\n",
    "        query = \"SELECT streetname_fr FROM belgium_streets WHERE postcode = '%s'\" %(postcode)\n",
    "        cursor.execute(query)\n",
    "        tablecol = [i[0] for i in cursor.fetchall()]\n",
    "    elif language == \"NL\" :\n",
    "        query = \"SELECT streetname_nl FROM belgium_streets WHERE postcode = '%s'\" %(postcode)\n",
    "        cursor.execute(query)\n",
    "        tablecol = [i[0] for i in cursor.fetchall()]\n",
    "    else : \n",
    "        query = \"SELECT streetname_fr, streetname_nl FROM belgium_streets WHERE postcode = '%s'\" %(postcode)\n",
    "        cursor.execute(query)\n",
    "        tablecol = cursor.fetchall()\n",
    "    return tablecol\n",
    "\n",
    "# I need a function that will take a list of names as input and a search term\n",
    "# will build another list with fuzzy match score, and return the value with the highest score\n",
    "def get_best_matching(list_of_streets, term) :\n",
    "    scores = []\n",
    "    for element in list_of_streets : \n",
    "        scores.append(fuzz.token_sort_ratio(element, term))\n",
    "    return scores\n",
    "\n",
    "# takes as input a 2D list, outupts a 1D list\n",
    "def transform_list(street_n_list) : \n",
    "    total_list = []\n",
    "    for element in street_n_list : \n",
    "        total_list.append(element[0])\n",
    "        total_list.append(element[1])\n",
    "\n",
    "def get_best_address_given_scores(scores, list_of_streets):\n",
    "    max_value = max(scores) \n",
    "    max_index = scores. index(max_value)\n",
    "    return list_of_streets[max_index]\n",
    "\n",
    "def get_street_ids_give_name(street_name, language) :\n",
    "    if language == \"FR\" :\n",
    "        query = \"SELECT street_id FROM belgium_streets WHERE streetname_fr = '%s'\" %(street_name)\n",
    "        cursor.execute(query)\n",
    "        tablecol = [i[0] for i in cursor.fetchall()]\n",
    "        return tablecol\n",
    "    elif language == \"NL\" : \n",
    "        query = \"SELECT street_id FROM belgium_streets WHERE streetname_nl = '%s'\" %(street_name)\n",
    "        cursor.execute(query)\n",
    "        tablecol = [i[0] for i in cursor.fetchall()]\n",
    "        return tablecol\n",
    "    else :  \n",
    "        query = \"SELECT street_id FROM belgium_streets WHERE streetname_nl = '%s' OR streetname_fr = '%s'\" %(street_name)\n",
    "        cursor.execute(query)\n",
    "        tablecol = [i[0] for i in cursor.fetchall()]\n",
    "        return tablecol\n",
    "\n",
    "def get_address_info(street_id, house_number) : \n",
    "    query = \"SELECT * FROM belgium_addresses WHERE street_id = '%s' AND house_number = '%s' AND status <> 'retired'\" %(street_id, house_number)\n",
    "    cursor.execute(query)\n",
    "    tablecol = cursor.fetchall()\n",
    "    return tablecol\n",
    "\n",
    "def get_address_info_wou_housenb(street_id) : \n",
    "    query = \"SELECT * FROM belgium_addresses WHERE street_id = '%s' AND status <> 'retired'\" %(street_id)\n",
    "    cursor.execute(query)\n",
    "    tablecol = cursor.fetchall()\n",
    "    return tablecol\n",
    "\n",
    "def get_flood_risk_given_addressID(address_ID) : \n",
    "    query = \"SELECT * FROM flooding_risk WHERE address_id = '%s'\" %(address_ID)\n",
    "    cursor.execute(query)\n",
    "    tablecol = cursor.fetchall()\n",
    "    return tablecol\n",
    "\n",
    "# build a function that given the street name, it outputs a list of all the house numbers, sorted!\n",
    "def get_house_numbers(street_id) :\n",
    "    query = \"SELECT house_number FROM belgium_addresses WHERE street_id = '%s'\" %(street_id)\n",
    "    cursor.execute(query)\n",
    "    tablecol = cursor.fetchall()\n",
    "    tablecol.sort()\n",
    "    return tablecol\n",
    "\n",
    "# given a list of house numbers and a house number, give me the values of the house numbers between the given house number (this phrase doesn't make sense at all)\n",
    "def get_upper_lower_house_numbers(house_number, house_numbers) : \n",
    "    # insert element in the list, sort the list, get element position, then get previous and future elements\n",
    "    house_numbers.append(house_number)\n",
    "    house_numbers.sort()\n",
    "    index = house_numbers.index(house_number)\n",
    "    if index == 0 : \n",
    "        print(\"special case\")\n",
    "    elif index == len(house_numbers)-1 :\n",
    "        print(\"sepcial case\")\n",
    "    else : \n",
    "        print(\"return pre and post house numbers\")\n",
    "\n",
    "def return_flood_factors(postcode, streetname, house_number) :\n",
    "\n",
    "    street_ids = get_street_id_from_postcode(cursor, postcode)\n",
    "\n",
    "    ##################\n",
    "\n",
    "    best_street_match = \"\"\n",
    "    language = get_language(streetname)\n",
    "    if language == \"None\" : \n",
    "        sn_none = get_street_names_from_postcode_lg(cursor, postcode, language)\n",
    "        sn_none = transform_list(sn_none)\n",
    "        scores = get_best_matching(sn_none, streetname)\n",
    "        best_street_match = get_best_address_given_scores(scores, sn_none)\n",
    "    else : \n",
    "        sn = get_street_names_from_postcode_lg(cursor, postcode, language)\n",
    "        scores = get_best_matching(sn, streetname)\n",
    "        best_street_match = get_best_address_given_scores(scores, sn)\n",
    "    street_ids = get_street_ids_give_name(best_street_match, language)\n",
    "\n",
    "    #################\n",
    "\n",
    "    info = get_address_info(street_ids[0], house_number)    \n",
    "    if len(info) == 1 : \n",
    "        # best case\n",
    "        coordinates_x = info[0][1]\n",
    "        coordinates_y = info[0][2]\n",
    "        print(\"Here are the coordinates : \")\n",
    "        print(\"X Coordinates : \", coordinates_x)\n",
    "        print(\"Y Coordinates : \", coordinates_y)\n",
    "        flood_data = get_flood_risk_given_addressID(info[0][0])\n",
    "        col_names = [\"address id\", \"coord X\", \"coord Y\", \"lat\", \"long\", \"box_number\", \"housenumber\", \"municipality_id\", \"municipality_name_de\", \"municipality_name_fr\", \"municipality_name_nl\", \"postcode\", \"postname_fr\", \"postname_nl\", \"street_id\", \"streetname_de\", \"streetname_fr\", \"streetname_nl\", \"region_code\", \"status\"]\n",
    "        print(tabulate(info, headers=col_names, tablefmt=\"fancy_grid\"))\n",
    "        print(\"Her are the flooding data for this particular address : \" + streetname + \" \" + house_number + \" \" + postcode)\n",
    "        col_names = [\"address_id\", \"risk_level\", \"alea_type\", \"map_object_id\", \"map_local_id\", \"map_src_file\"]\n",
    "        print(tabulate(flood_data, headers=col_names, tablefmt=\"fancy_grid\"))\n",
    "\n",
    "    elif len(info) == 0 : \n",
    "        print(\"No data was found given the street id and house number, but here is what we can find without the house number : \")\n",
    "        info_wo = get_address_info_wou_housenb(street_ids[0])\n",
    "        info_wo = info_wo[0:5]\n",
    "        col_names = [\"address id\", \"coord X\", \"coord Y\", \"lat\", \"long\", \"box_number\", \"housenumber\", \"municipality_id\", \"municipality_name_de\", \"municipality_name_fr\", \"municipality_name_nl\", \"postcode\", \"postname_fr\", \"postname_nl\", \"street_id\", \"streetname_de\", \"streetname_fr\", \"streetname_nl\", \"region_code\", \"status\"]\n",
    "        print(tabulate(info_wo, headers=col_names, tablefmt=\"fancy_grid\"))\n",
    "        print(\"For each of these addresses, here are the flooding info data : \")\n",
    "        flood_data = []\n",
    "        for element in info_wo : \n",
    "            dt = get_flood_risk_given_addressID(element[0])\n",
    "            flood_data.append(dt[0])\n",
    "        col_names = [\"address_id\", \"risk_level\", \"alea_type\", \"map_object_id\", \"map_local_id\", \"map_src_file\"]\n",
    "        print(tabulate(flood_data, headers=col_names, tablefmt=\"fancy_grid\"))\n",
    "        \n",
    "    else : \n",
    "        print(\"Unusual result, but let's print it out : \")\n",
    "        col_names = [\"address id\", \"coord X\", \"coord Y\", \"lat\", \"long\", \"box_number\", \"housenumber\", \"municipality_id\", \"municipality_name_de\", \"municipality_name_fr\", \"municipality_name_nl\", \"postcode\", \"postname_fr\", \"postname_nl\", \"street_id\", \"streetname_de\", \"streetname_fr\", \"streetname_nl\", \"region_code\", \"status\"]\n",
    "        print(tabulate(info, headers=col_names, tablefmt=\"fancy_grid\"))"
   ]
  },
  {
   "cell_type": "code",
   "execution_count": 31,
   "metadata": {},
   "outputs": [],
   "source": [
    "# let's implement the algorithm\n",
    "\n",
    "# take the inputs : postcode, streetname and house number\n",
    "postcode = input(\"Ener postcode : \")\n",
    "streetname = input(\"Enter streetname : \")\n",
    "house_number = input(\"Enter house number : \")"
   ]
  },
  {
   "cell_type": "code",
   "execution_count": 49,
   "metadata": {},
   "outputs": [
    {
     "name": "stdout",
     "output_type": "stream",
     "text": [
      "Here are the coordinates : \n",
      "X Coordinates :  151836.148\n",
      "Y Coordinates :  169624.559\n",
      "╒══════════════╤═══════════╤═══════════╤════════╤═════════╤══════════════╤═══════════════╤═══════════════════╤════════════════════════╤════════════════════════╤════════════════════════╤════════════╤════════════════════════════════╤══════════════════════════════╤═════════════╤═════════════════╤═════════════════╤═════════════════╤═══════════════╤══════════╕\n",
      "│   address id │   coord X │   coord Y │    lat │    long │ box_number   │   housenumber │   municipality_id │ municipality_name_de   │ municipality_name_fr   │ municipality_name_nl   │   postcode │ postname_fr                    │ postname_nl                  │   street_id │ streetname_de   │ streetname_fr   │ streetname_nl   │ region_code   │ status   │\n",
      "╞══════════════╪═══════════╪═══════════╪════════╪═════════╪══════════════╪═══════════════╪═══════════════════╪════════════════════════╪════════════════════════╪════════════════════════╪════════════╪════════════════════════════════╪══════════════════════════════╪═════════════╪═════════════════╪═════════════════╪═════════════════╪═══════════════╪══════════╡\n",
      "│       546627 │    151836 │    169625 │ 50.837 │ 4.39482 │              │           236 │             21005 │                        │ Etterbeek              │ Etterbeek              │       1040 │ Etterbeek + Bruxelles (Europe) │ Etterbeek + Brussel (Europa) │        2266 │                 │ Rue Louis Hap   │ Louis Hapstraat │ BE-BRU        │ current  │\n",
      "╘══════════════╧═══════════╧═══════════╧════════╧═════════╧══════════════╧═══════════════╧═══════════════════╧════════════════════════╧════════════════════════╧════════════════════════╧════════════╧════════════════════════════════╧══════════════════════════════╧═════════════╧═════════════════╧═════════════════╧═════════════════╧═══════════════╧══════════╛\n",
      "Her are the flooding data for this particular address : Rue Louis Hap 236 1040\n",
      "╒══════════════╤══════════════╤═════════════╤═════════════════╤════════════════╤════════════════╕\n",
      "│   address_id │ risk_level   │ alea_type   │ map_object_id   │ map_local_id   │ map_src_file   │\n",
      "╞══════════════╪══════════════╪═════════════╪═════════════════╪════════════════╪════════════════╡\n",
      "│       546627 │ No risk      │             │                 │                │                │\n",
      "╘══════════════╧══════════════╧═════════════╧═════════════════╧════════════════╧════════════════╛\n"
     ]
    }
   ],
   "source": [
    "return_flood_factors(postcode=\"1040\", streetname=\"Rue Louis Hap\", house_number=\"236\")"
   ]
  },
  {
   "cell_type": "code",
   "execution_count": 50,
   "metadata": {},
   "outputs": [
    {
     "name": "stdout",
     "output_type": "stream",
     "text": [
      "Here are the coordinates : \n",
      "X Coordinates :  151836.148\n",
      "Y Coordinates :  169624.559\n",
      "╒══════════════╤═══════════╤═══════════╤════════╤═════════╤══════════════╤═══════════════╤═══════════════════╤════════════════════════╤════════════════════════╤════════════════════════╤════════════╤════════════════════════════════╤══════════════════════════════╤═════════════╤═════════════════╤═════════════════╤═════════════════╤═══════════════╤══════════╕\n",
      "│   address id │   coord X │   coord Y │    lat │    long │ box_number   │   housenumber │   municipality_id │ municipality_name_de   │ municipality_name_fr   │ municipality_name_nl   │   postcode │ postname_fr                    │ postname_nl                  │   street_id │ streetname_de   │ streetname_fr   │ streetname_nl   │ region_code   │ status   │\n",
      "╞══════════════╪═══════════╪═══════════╪════════╪═════════╪══════════════╪═══════════════╪═══════════════════╪════════════════════════╪════════════════════════╪════════════════════════╪════════════╪════════════════════════════════╪══════════════════════════════╪═════════════╪═════════════════╪═════════════════╪═════════════════╪═══════════════╪══════════╡\n",
      "│       546627 │    151836 │    169625 │ 50.837 │ 4.39482 │              │           236 │             21005 │                        │ Etterbeek              │ Etterbeek              │       1040 │ Etterbeek + Bruxelles (Europe) │ Etterbeek + Brussel (Europa) │        2266 │                 │ Rue Louis Hap   │ Louis Hapstraat │ BE-BRU        │ current  │\n",
      "╘══════════════╧═══════════╧═══════════╧════════╧═════════╧══════════════╧═══════════════╧═══════════════════╧════════════════════════╧════════════════════════╧════════════════════════╧════════════╧════════════════════════════════╧══════════════════════════════╧═════════════╧═════════════════╧═════════════════╧═════════════════╧═══════════════╧══════════╛\n",
      "Her are the flooding data for this particular address : Rue Louisuiana Hap 236 1040\n",
      "╒══════════════╤══════════════╤═════════════╤═════════════════╤════════════════╤════════════════╕\n",
      "│   address_id │ risk_level   │ alea_type   │ map_object_id   │ map_local_id   │ map_src_file   │\n",
      "╞══════════════╪══════════════╪═════════════╪═════════════════╪════════════════╪════════════════╡\n",
      "│       546627 │ No risk      │             │                 │                │                │\n",
      "╘══════════════╧══════════════╧═════════════╧═════════════════╧════════════════╧════════════════╛\n"
     ]
    }
   ],
   "source": [
    "return_flood_factors(postcode=\"1040\", streetname=\"Rue Louisuiana Hap\", house_number=\"236\")"
   ]
  },
  {
   "cell_type": "code",
   "execution_count": 56,
   "metadata": {},
   "outputs": [
    {
     "name": "stdout",
     "output_type": "stream",
     "text": [
      "No data was found given the street id and house number, but here is what we can find without the house number : \n",
      "╒══════════════╤═══════════╤═══════════╤═════════╤═════════╤══════════════╤═══════════════╤═══════════════════╤════════════════════════╤════════════════════════╤════════════════════════╤════════════╤════════════════════════════════╤══════════════════════════════╤═════════════╤═════════════════╤═════════════════╤═════════════════╤═══════════════╤══════════╕\n",
      "│   address id │   coord X │   coord Y │     lat │    long │ box_number   │   housenumber │   municipality_id │ municipality_name_de   │ municipality_name_fr   │ municipality_name_nl   │   postcode │ postname_fr                    │ postname_nl                  │   street_id │ streetname_de   │ streetname_fr   │ streetname_nl   │ region_code   │ status   │\n",
      "╞══════════════╪═══════════╪═══════════╪═════════╪═════════╪══════════════╪═══════════════╪═══════════════════╪════════════════════════╪════════════════════════╪════════════════════════╪════════════╪════════════════════════════════╪══════════════════════════════╪═════════════╪═════════════════╪═════════════════╪═════════════════╪═══════════════╪══════════╡\n",
      "│         4649 │    151739 │    169585 │ 50.8367 │ 4.39344 │              │           198 │             21005 │                        │ Etterbeek              │ Etterbeek              │       1040 │ Etterbeek + Bruxelles (Europe) │ Etterbeek + Brussel (Europa) │        2266 │                 │ Rue Louis Hap   │ Louis Hapstraat │ BE-BRU        │ current  │\n",
      "├──────────────┼───────────┼───────────┼─────────┼─────────┼──────────────┼───────────────┼───────────────────┼────────────────────────┼────────────────────────┼────────────────────────┼────────────┼────────────────────────────────┼──────────────────────────────┼─────────────┼─────────────────┼─────────────────┼─────────────────┼───────────────┼──────────┤\n",
      "│         6179 │    151722 │    169548 │ 50.8363 │ 4.3932  │              │           217 │             21005 │                        │ Etterbeek              │ Etterbeek              │       1040 │ Etterbeek + Bruxelles (Europe) │ Etterbeek + Brussel (Europa) │        2266 │                 │ Rue Louis Hap   │ Louis Hapstraat │ BE-BRU        │ current  │\n",
      "├──────────────┼───────────┼───────────┼─────────┼─────────┼──────────────┼───────────────┼───────────────────┼────────────────────────┼────────────────────────┼────────────────────────┼────────────┼────────────────────────────────┼──────────────────────────────┼─────────────┼─────────────────┼─────────────────┼─────────────────┼───────────────┼──────────┤\n",
      "│        13781 │    151155 │    169384 │ 50.8349 │ 4.38515 │              │            45 │             21005 │                        │ Etterbeek              │ Etterbeek              │       1040 │ Etterbeek + Bruxelles (Europe) │ Etterbeek + Brussel (Europa) │        2266 │                 │ Rue Louis Hap   │ Louis Hapstraat │ BE-BRU        │ current  │\n",
      "├──────────────┼───────────┼───────────┼─────────┼─────────┼──────────────┼───────────────┼───────────────────┼────────────────────────┼────────────────────────┼────────────────────────┼────────────┼────────────────────────────────┼──────────────────────────────┼─────────────┼─────────────────┼─────────────────┼─────────────────┼───────────────┼──────────┤\n",
      "│        14019 │    151266 │    169417 │ 50.8352 │ 4.38673 │              │            70 │             21005 │                        │ Etterbeek              │ Etterbeek              │       1040 │ Etterbeek + Bruxelles (Europe) │ Etterbeek + Brussel (Europa) │        2266 │                 │ Rue Louis Hap   │ Louis Hapstraat │ BE-BRU        │ current  │\n",
      "├──────────────┼───────────┼───────────┼─────────┼─────────┼──────────────┼───────────────┼───────────────────┼────────────────────────┼────────────────────────┼────────────────────────┼────────────┼────────────────────────────────┼──────────────────────────────┼─────────────┼─────────────────┼─────────────────┼─────────────────┼───────────────┼──────────┤\n",
      "│        14501 │    151634 │    169542 │ 50.8363 │ 4.39195 │              │           164 │             21005 │                        │ Etterbeek              │ Etterbeek              │       1040 │ Etterbeek + Bruxelles (Europe) │ Etterbeek + Brussel (Europa) │        2266 │                 │ Rue Louis Hap   │ Louis Hapstraat │ BE-BRU        │ current  │\n",
      "╘══════════════╧═══════════╧═══════════╧═════════╧═════════╧══════════════╧═══════════════╧═══════════════════╧════════════════════════╧════════════════════════╧════════════════════════╧════════════╧════════════════════════════════╧══════════════════════════════╧═════════════╧═════════════════╧═════════════════╧═════════════════╧═══════════════╧══════════╛\n",
      "For each of these addresses, here are the flooding info data : \n",
      "╒══════════════╤══════════════╤═════════════╤═════════════════╤════════════════╤════════════════╕\n",
      "│   address_id │ risk_level   │ alea_type   │ map_object_id   │ map_local_id   │ map_src_file   │\n",
      "╞══════════════╪══════════════╪═════════════╪═════════════════╪════════════════╪════════════════╡\n",
      "│         4649 │ No risk      │             │                 │                │                │\n",
      "├──────────────┼──────────────┼─────────────┼─────────────────┼────────────────┼────────────────┤\n",
      "│         6179 │ No risk      │             │                 │                │                │\n",
      "├──────────────┼──────────────┼─────────────┼─────────────────┼────────────────┼────────────────┤\n",
      "│        13781 │ No risk      │             │                 │                │                │\n",
      "├──────────────┼──────────────┼─────────────┼─────────────────┼────────────────┼────────────────┤\n",
      "│        14019 │ No risk      │             │                 │                │                │\n",
      "├──────────────┼──────────────┼─────────────┼─────────────────┼────────────────┼────────────────┤\n",
      "│        14501 │ No risk      │             │                 │                │                │\n",
      "╘══════════════╧══════════════╧═════════════╧═════════════════╧════════════════╧════════════════╛\n"
     ]
    }
   ],
   "source": [
    "return_flood_factors(postcode=\"1040\", streetname=\"Rue Louis Hap\", house_number=\"23623\")"
   ]
  },
  {
   "cell_type": "code",
   "execution_count": 74,
   "metadata": {},
   "outputs": [
    {
     "name": "stdout",
     "output_type": "stream",
     "text": [
      "Here are the coordinates : \n",
      "X Coordinates :  88086.0\n",
      "Y Coordinates :  168024.0\n",
      "╒══════════════╤═══════════╤═══════════╤═════════╤════════╤══════════════╤═══════════════╤═══════════════════╤════════════════════════╤════════════════════════╤════════════════════════╤════════════╤═══════════════╤═══════════════╤═════════════╤═════════════════╤═════════════════╤═════════════════╤═══════════════╤══════════╕\n",
      "│   address id │   coord X │   coord Y │     lat │   long │ box_number   │   housenumber │   municipality_id │ municipality_name_de   │ municipality_name_fr   │ municipality_name_nl   │   postcode │ postname_fr   │ postname_nl   │   street_id │ streetname_de   │ streetname_fr   │ streetname_nl   │ region_code   │ status   │\n",
      "╞══════════════╪═══════════╪═══════════╪═════════╪════════╪══════════════╪═══════════════╪═══════════════════╪════════════════════════╪════════════════════════╪════════════════════════╪════════════╪═══════════════╪═══════════════╪═════════════╪═════════════════╪═════════════════╪═════════════════╪═══════════════╪══════════╡\n",
      "│      1704904 │     88086 │    168024 │ 50.8194 │ 3.4901 │              │             2 │             34002 │                        │                        │ Anzegem                │       8572 │               │ Kaster        │       51058 │                 │                 │ Gaverstraat     │ BE-VLG        │ current  │\n",
      "╘══════════════╧═══════════╧═══════════╧═════════╧════════╧══════════════╧═══════════════╧═══════════════════╧════════════════════════╧════════════════════════╧════════════════════════╧════════════╧═══════════════╧═══════════════╧═════════════╧═════════════════╧═════════════════╧═════════════════╧═══════════════╧══════════╛\n",
      "Her are the flooding data for this particular address : Gaverstraat 2 9500\n",
      "╒══════════════╤══════════════╤═════════════╤═════════════════╤════════════════╤═════════════════════════════════════════════════════════════════════════════════════╕\n",
      "│   address_id │ risk_level   │ alea_type   │   map_object_id │   map_local_id │ map_src_file                                                                        │\n",
      "╞══════════════╪══════════════╪═════════════╪═════════════════╪════════════════╪═════════════════════════════════════════════════════════════════════════════════════╡\n",
      "│      1704904 │ potential    │             │          346549 │         346549 │ Overstromingsgevoelige_gebieden_2017_(Watertoets)_correctie_13_07_2017_GewVLA_Shape │\n",
      "╘══════════════╧══════════════╧═════════════╧═════════════════╧════════════════╧═════════════════════════════════════════════════════════════════════════════════════╛\n"
     ]
    }
   ],
   "source": [
    "return_flood_factors(postcode=\"9500\", streetname=\"Gaverstraat\", house_number=\"2\")"
   ]
  },
  {
   "cell_type": "code",
   "execution_count": 76,
   "metadata": {},
   "outputs": [
    {
     "ename": "IndexError",
     "evalue": "list index out of range",
     "output_type": "error",
     "traceback": [
      "\u001b[1;31m---------------------------------------------------------------------------\u001b[0m",
      "\u001b[1;31mIndexError\u001b[0m                                Traceback (most recent call last)",
      "\u001b[1;32mc:\\Users\\XL892PG\\GTM2\\Github\\floodfactor\\adress_search.ipynb Cell 10'\u001b[0m in \u001b[0;36m<cell line: 2>\u001b[1;34m()\u001b[0m\n\u001b[0;32m      <a href='vscode-notebook-cell:/c%3A/Users/XL892PG/GTM2/Github/floodfactor/adress_search.ipynb#ch0000022?line=0'>1</a>\u001b[0m liste \u001b[39m=\u001b[39m [\u001b[39m0\u001b[39m,\u001b[39m1\u001b[39m,\u001b[39m2\u001b[39m]\n\u001b[1;32m----> <a href='vscode-notebook-cell:/c%3A/Users/XL892PG/GTM2/Github/floodfactor/adress_search.ipynb#ch0000022?line=1'>2</a>\u001b[0m liste[\u001b[39m3\u001b[39;49m]\n",
      "\u001b[1;31mIndexError\u001b[0m: list index out of range"
     ]
    }
   ],
   "source": []
  },
  {
   "cell_type": "code",
   "execution_count": null,
   "metadata": {},
   "outputs": [],
   "source": []
  }
 ],
 "metadata": {
  "kernelspec": {
   "display_name": "Python 3.9.7 ('lstm_env')",
   "language": "python",
   "name": "python3"
  },
  "language_info": {
   "codemirror_mode": {
    "name": "ipython",
    "version": 3
   },
   "file_extension": ".py",
   "mimetype": "text/x-python",
   "name": "python",
   "nbconvert_exporter": "python",
   "pygments_lexer": "ipython3",
   "version": "3.9.7"
  },
  "orig_nbformat": 4,
  "vscode": {
   "interpreter": {
    "hash": "9a538a63f4ba9332b05e2a8df6b9e4a9f95fb4c949297fa78530a4e8c1bbc197"
   }
  }
 },
 "nbformat": 4,
 "nbformat_minor": 2
}
