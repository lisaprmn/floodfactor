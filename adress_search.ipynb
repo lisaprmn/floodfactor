{
 "cells": [
  {
   "cell_type": "code",
   "execution_count": 116,
   "metadata": {},
   "outputs": [],
   "source": [
    "import pandas as pd\n",
    "import pyodbc\n",
    "from sqlpush.sqlstd import *\n",
    "from sqlpush.config import *\n",
    "from tabulate import tabulate"
   ]
  },
  {
   "cell_type": "code",
   "execution_count": 49,
   "metadata": {},
   "outputs": [
    {
     "data": {
      "text/plain": [
       "94"
      ]
     },
     "execution_count": 49,
     "metadata": {},
     "output_type": "execute_result"
    }
   ],
   "source": [
    "# how to fuzzy match : \n",
    "from fuzzywuzzy import fuzz\n",
    "from fuzzywuzzy import process\n",
    "fuzz.token_sort_ratio(\"Catherine Gitau M.\", \"Gitau Catherine\")\n",
    "fuzz.partial_ratio(\"Catherine M. Gitau\",\"Catherine Gitau\")"
   ]
  },
  {
   "cell_type": "code",
   "execution_count": 35,
   "metadata": {},
   "outputs": [],
   "source": [
    "# Prepare connection\n",
    "cursor, conn = connectdb(config)"
   ]
  },
  {
   "cell_type": "code",
   "execution_count": 95,
   "metadata": {},
   "outputs": [],
   "source": [
    "# let's define all the needed functions\n",
    "\n",
    "def getdata(cursor):\n",
    "    query = \"SELECT * FROM belgium_addresses \"\n",
    "    cursor.execute(query)\n",
    "    tablecol = [i[0] for i in cursor.fetchall()]\n",
    "    return tablecol\n",
    "\n",
    "\n",
    "def get_street_id_from_postcode(cursor, postcode):\n",
    "    query = \"SELECT street_id FROM belgium_streets WHERE postcode = '%s'\" %(postcode)\n",
    "    cursor.execute(query)\n",
    "    tablecol = [i[0] for i in cursor.fetchall()]\n",
    "    return tablecol\n",
    "\n",
    "def get_language(streetname):\n",
    "    streetname = streetname.lower()\n",
    "    language = \"None\"\n",
    "    if \"straat\" in streetname :\n",
    "        language = \"NL\"\n",
    "    elif \"laan\" in streetname :\n",
    "        language = \"NL\"\n",
    "    elif \"rue\" in streetname :\n",
    "        language = \"FR\"\n",
    "    elif \"avenue\" in streetname :\n",
    "        language = \"FR\"\n",
    "    elif \"boulevard\" in streetname :\n",
    "        language = \"FR\"\n",
    "    elif \"square \" in streetname :\n",
    "        language = \"FR\"\n",
    "    elif \"allées\" in streetname :\n",
    "        language = \"FR\"\n",
    "    else : \n",
    "        language = \"None\"\n",
    "    return language\n",
    "\n",
    "def get_street_names_from_postcode_lg(cursor, postcode, language):\n",
    "    if language == \"FR\" :\n",
    "        query = \"SELECT streetname_fr FROM belgium_streets WHERE postcode = '%s'\" %(postcode)\n",
    "        cursor.execute(query)\n",
    "        tablecol = [i[0] for i in cursor.fetchall()]\n",
    "    elif language == \"NL\" :\n",
    "        query = \"SELECT streetname_nl FROM belgium_streets WHERE postcode = '%s'\" %(postcode)\n",
    "        cursor.execute(query)\n",
    "        tablecol = [i[0] for i in cursor.fetchall()]\n",
    "    else : \n",
    "        query = \"SELECT streetname_fr, streetname_nl FROM belgium_streets WHERE postcode = '%s'\" %(postcode)\n",
    "        cursor.execute(query)\n",
    "        tablecol = cursor.fetchall()\n",
    "    return tablecol\n",
    "\n",
    "# I need a function that will take a list of names as input and a search term\n",
    "# will build another list with fuzzy match score, and return the value with the highest score\n",
    "def get_best_matching(list_of_streets, term) :\n",
    "    scores = []\n",
    "    for element in list_of_streets : \n",
    "        scores.append(fuzz.token_sort_ratio(element, term))\n",
    "    return scores\n",
    "\n",
    "# takes as input a 2D list, outupts a 1D list\n",
    "def transform_list(street_n_list) : \n",
    "    total_list = []\n",
    "    for element in street_n_list : \n",
    "        total_list.append(element[0])\n",
    "        total_list.append(element[1])\n",
    "\n",
    "def get_best_address_given_scores(scores, list_of_streets):\n",
    "    max_value = max(scores) \n",
    "    max_index = scores. index(max_value)\n",
    "    return list_of_streets[max_index]\n",
    "\n",
    "def get_street_ids_give_name(street_name, language) :\n",
    "    if language == \"FR\" :\n",
    "        query = \"SELECT street_id FROM belgium_streets WHERE streetname_fr = '%s'\" %(street_name)\n",
    "        cursor.execute(query)\n",
    "        tablecol = [i[0] for i in cursor.fetchall()]\n",
    "        return tablecol\n",
    "    elif language == \"NL\" : \n",
    "        query = \"SELECT street_id FROM belgium_streets WHERE streetname_nl = '%s'\" %(street_name)\n",
    "        cursor.execute(query)\n",
    "        tablecol = [i[0] for i in cursor.fetchall()]\n",
    "        return tablecol\n",
    "    else :  \n",
    "        query = \"SELECT street_id FROM belgium_streets WHERE streetname_nl = '%s' OR streetname_fr = '%s'\" %(street_name)\n",
    "        cursor.execute(query)\n",
    "        tablecol = [i[0] for i in cursor.fetchall()]\n",
    "        return tablecol\n",
    "\n",
    "def get_address_info(street_id, house_number) : \n",
    "    query = \"SELECT * FROM belgium_addresses WHERE street_id = '%s' AND house_number = '%s' AND status <> 'retired'\" %(street_id, house_number)\n",
    "    cursor.execute(query)\n",
    "    tablecol = cursor.fetchall()\n",
    "    return tablecol\n",
    "\n",
    "def get_address_info_wou_housenb(street_id) : \n",
    "    query = \"SELECT * FROM belgium_addresses WHERE street_id = '%s' AND status <> 'retired'\" %(street_id)\n",
    "    cursor.execute(query)\n",
    "    tablecol = cursor.fetchall()\n",
    "    return tablecol"
   ]
  },
  {
   "cell_type": "code",
   "execution_count": 99,
   "metadata": {},
   "outputs": [],
   "source": [
    "# let's implement the algorithm\n",
    "\n",
    "# take the inputs : postcode, streetname and house number\n",
    "postcode = input(\"Ener postcode : \")\n",
    "streetname = input(\"Enter streetname : \")\n",
    "house_number = input(\"Enter house number : \")"
   ]
  },
  {
   "cell_type": "code",
   "execution_count": 100,
   "metadata": {},
   "outputs": [],
   "source": [
    "street_ids = get_street_id_from_postcode(cursor, \"1040\")"
   ]
  },
  {
   "cell_type": "code",
   "execution_count": 101,
   "metadata": {},
   "outputs": [],
   "source": [
    "best_street_match = \"\"\n",
    "language = get_language(streetname)\n",
    "if language == \"None\" : \n",
    "    sn_none = get_street_names_from_postcode_lg(cursor, postcode, language)\n",
    "    sn_none = transform_list(sn_none)\n",
    "    scores = get_best_matching(sn_none, streetname)\n",
    "    best_street_match = get_best_address_given_scores(scores, sn_none)\n",
    "else : \n",
    "    sn = get_street_names_from_postcode_lg(cursor, postcode, language)\n",
    "    scores = get_best_matching(sn, streetname)\n",
    "    best_street_match = get_best_address_given_scores(scores, sn)\n",
    "street_ids = get_street_ids_give_name(best_street_match, language)"
   ]
  },
  {
   "cell_type": "code",
   "execution_count": 119,
   "metadata": {},
   "outputs": [
    {
     "name": "stdout",
     "output_type": "stream",
     "text": [
      "No data was found given the street id and house number, but here is what we can find without the house number : \n",
      "╒═══════════╤═══════════╤═════════╤═════════╤══════════════╤══════════════╤═══════════════╤═══════════════════╤════════════════════════╤════════════════════════╤════════════════════════╤════════════╤════════════════════════════════════════════════════╤══════════════════════════════════════════════════╤═════════════╤═════════════════╤═════════════════╤═════════════════╤═══════════════╤══════════╕\n",
      "│   coord X │   coord Y │     lat │    long │   address id │ box_number   │   housenumber │   municipality_id │ municipality_name_de   │ municipality_name_fr   │ municipality_name_nl   │   postcode │ postname_fr                                        │ postname_nl                                      │   street_id │ streetname_de   │ streetname_fr   │ streetname_nl   │ region_code   │ status   │\n",
      "╞═══════════╪═══════════╪═════════╪═════════╪══════════════╪══════════════╪═══════════════╪═══════════════════╪════════════════════════╪════════════════════════╪════════════════════════╪════════════╪════════════════════════════════════════════════════╪══════════════════════════════════════════════════╪═════════════╪═════════════════╪═════════════════╪═════════════════╪═══════════════╪══════════╡\n",
      "│    150443 │    171841 │ 50.857  │ 4.37504 │       160717 │              │            31 │             21015 │                        │ Schaerbeek             │ Schaarbeek             │       1030 │ Schaerbeek + Bruxelles (Pont Van Praet, Teichmann) │ Schaarbeek + Brussel (Van Praet, Teichmann Brug) │        3556 │                 │ Rue Massaux     │ Massauxstraat   │ BE-BRU        │ current  │\n",
      "├───────────┼───────────┼─────────┼─────────┼──────────────┼──────────────┼───────────────┼───────────────────┼────────────────────────┼────────────────────────┼────────────────────────┼────────────┼────────────────────────────────────────────────────┼──────────────────────────────────────────────────┼─────────────┼─────────────────┼─────────────────┼─────────────────┼───────────────┼──────────┤\n",
      "│    150401 │    171847 │ 50.857  │ 4.37444 │       156330 │              │            28 │             21015 │                        │ Schaerbeek             │ Schaarbeek             │       1030 │ Schaerbeek + Bruxelles (Pont Van Praet, Teichmann) │ Schaarbeek + Brussel (Van Praet, Teichmann Brug) │        3556 │                 │ Rue Massaux     │ Massauxstraat   │ BE-BRU        │ current  │\n",
      "├───────────┼───────────┼─────────┼─────────┼──────────────┼──────────────┼───────────────┼───────────────────┼────────────────────────┼────────────────────────┼────────────────────────┼────────────┼────────────────────────────────────────────────────┼──────────────────────────────────────────────────┼─────────────┼─────────────────┼─────────────────┼─────────────────┼───────────────┼──────────┤\n",
      "│    150453 │    171862 │ 50.8572 │ 4.37518 │       164189 │              │            44 │             21015 │                        │ Schaerbeek             │ Schaarbeek             │       1030 │ Schaerbeek + Bruxelles (Pont Van Praet, Teichmann) │ Schaarbeek + Brussel (Van Praet, Teichmann Brug) │        3556 │                 │ Rue Massaux     │ Massauxstraat   │ BE-BRU        │ current  │\n",
      "├───────────┼───────────┼─────────┼─────────┼──────────────┼──────────────┼───────────────┼───────────────────┼────────────────────────┼────────────────────────┼────────────────────────┼────────────┼────────────────────────────────────────────────────┼──────────────────────────────────────────────────┼─────────────┼─────────────────┼─────────────────┼─────────────────┼───────────────┼──────────┤\n",
      "│    150409 │    171850 │ 50.857  │ 4.37456 │       164185 │              │            32 │             21015 │                        │ Schaerbeek             │ Schaarbeek             │       1030 │ Schaerbeek + Bruxelles (Pont Van Praet, Teichmann) │ Schaarbeek + Brussel (Van Praet, Teichmann Brug) │        3556 │                 │ Rue Massaux     │ Massauxstraat   │ BE-BRU        │ current  │\n",
      "├───────────┼───────────┼─────────┼─────────┼──────────────┼──────────────┼───────────────┼───────────────────┼────────────────────────┼────────────────────────┼────────────────────────┼────────────┼────────────────────────────────────────────────────┼──────────────────────────────────────────────────┼─────────────┼─────────────────┼─────────────────┼─────────────────┼───────────────┼──────────┤\n",
      "│    150443 │    171841 │ 50.857  │ 4.37504 │       160717 │              │            31 │             21015 │                        │ Schaerbeek             │ Schaarbeek             │       1030 │ Schaerbeek + Bruxelles (Pont Van Praet, Teichmann) │ Schaarbeek + Brussel (Van Praet, Teichmann Brug) │        3556 │                 │ Rue Massaux     │ Massauxstraat   │ BE-BRU        │ current  │\n",
      "├───────────┼───────────┼─────────┼─────────┼──────────────┼──────────────┼───────────────┼───────────────────┼────────────────────────┼────────────────────────┼────────────────────────┼────────────┼────────────────────────────────────────────────────┼──────────────────────────────────────────────────┼─────────────┼─────────────────┼─────────────────┼─────────────────┼───────────────┼──────────┤\n",
      "│    150401 │    171847 │ 50.857  │ 4.37444 │       156330 │              │            28 │             21015 │                        │ Schaerbeek             │ Schaarbeek             │       1030 │ Schaerbeek + Bruxelles (Pont Van Praet, Teichmann) │ Schaarbeek + Brussel (Van Praet, Teichmann Brug) │        3556 │                 │ Rue Massaux     │ Massauxstraat   │ BE-BRU        │ current  │\n",
      "├───────────┼───────────┼─────────┼─────────┼──────────────┼──────────────┼───────────────┼───────────────────┼────────────────────────┼────────────────────────┼────────────────────────┼────────────┼────────────────────────────────────────────────────┼──────────────────────────────────────────────────┼─────────────┼─────────────────┼─────────────────┼─────────────────┼───────────────┼──────────┤\n",
      "│    150453 │    171862 │ 50.8572 │ 4.37518 │       164189 │              │            44 │             21015 │                        │ Schaerbeek             │ Schaarbeek             │       1030 │ Schaerbeek + Bruxelles (Pont Van Praet, Teichmann) │ Schaarbeek + Brussel (Van Praet, Teichmann Brug) │        3556 │                 │ Rue Massaux     │ Massauxstraat   │ BE-BRU        │ current  │\n",
      "├───────────┼───────────┼─────────┼─────────┼──────────────┼──────────────┼───────────────┼───────────────────┼────────────────────────┼────────────────────────┼────────────────────────┼────────────┼────────────────────────────────────────────────────┼──────────────────────────────────────────────────┼─────────────┼─────────────────┼─────────────────┼─────────────────┼───────────────┼──────────┤\n",
      "│    150409 │    171850 │ 50.857  │ 4.37456 │       164185 │              │            32 │             21015 │                        │ Schaerbeek             │ Schaarbeek             │       1030 │ Schaerbeek + Bruxelles (Pont Van Praet, Teichmann) │ Schaarbeek + Brussel (Van Praet, Teichmann Brug) │        3556 │                 │ Rue Massaux     │ Massauxstraat   │ BE-BRU        │ current  │\n",
      "╘═══════════╧═══════════╧═════════╧═════════╧══════════════╧══════════════╧═══════════════╧═══════════════════╧════════════════════════╧════════════════════════╧════════════════════════╧════════════╧════════════════════════════════════════════════════╧══════════════════════════════════════════════════╧═════════════╧═════════════════╧═════════════════╧═════════════════╧═══════════════╧══════════╛\n"
     ]
    }
   ],
   "source": [
    "info = get_address_info(street_ids[0], house_number)    \n",
    "if len(info) == 1 : \n",
    "    # best case\n",
    "    coordinates_x = info[0]\n",
    "    coordinates_y = info[1]\n",
    "    print(\"Here are the coordinates : \")\n",
    "    print(coordinates_x)\n",
    "    print(coordinates_y)\n",
    "    col_names = [\"coord X\", \"coord Y\", \"lat\", \"long\", \"address id\", \"box_number\", \"housenumber\", \"municipality_id\", \"municipality_name_de\", \"municipality_name_fr\", \"municipality_name_nl\", \"postcode\", \"postname_fr\", \"postname_nl\", \"street_id\", \"streetname_de\", \"streetname_fr\", \"streetname_nl\", \"region_code\", \"status\"]\n",
    "    print(tabulate(info, headers=col_names, tablefmt=\"fancy_grid\"))\n",
    "elif len(info) == 0 : \n",
    "    print(\"No data was found given the street id and house number, but here is what we can find without the house number : \")\n",
    "    info_wo = get_address_info_wou_housenb(street_ids[0])\n",
    "    col_names = [\"coord X\", \"coord Y\", \"lat\", \"long\", \"address id\", \"box_number\", \"housenumber\", \"municipality_id\", \"municipality_name_de\", \"municipality_name_fr\", \"municipality_name_nl\", \"postcode\", \"postname_fr\", \"postname_nl\", \"street_id\", \"streetname_de\", \"streetname_fr\", \"streetname_nl\", \"region_code\", \"status\"]\n",
    "    print(tabulate(info_wo, headers=col_names, tablefmt=\"fancy_grid\"))\n",
    "else : \n",
    "    print(\"Unusual result, but let's print it out : \")\n",
    "    col_names = [\"coord X\", \"coord Y\", \"lat\", \"long\", \"address id\", \"box_number\", \"housenumber\", \"municipality_id\", \"municipality_name_de\", \"municipality_name_fr\", \"municipality_name_nl\", \"postcode\", \"postname_fr\", \"postname_nl\", \"street_id\", \"streetname_de\", \"streetname_fr\", \"streetname_nl\", \"region_code\", \"status\"]\n",
    "    print(tabulate(info, headers=col_names, tablefmt=\"fancy_grid\"))"
   ]
  },
  {
   "cell_type": "code",
   "execution_count": null,
   "metadata": {},
   "outputs": [],
   "source": []
  }
 ],
 "metadata": {
  "kernelspec": {
   "display_name": "Python 3.9.7 ('lstm_env')",
   "language": "python",
   "name": "python3"
  },
  "language_info": {
   "codemirror_mode": {
    "name": "ipython",
    "version": 3
   },
   "file_extension": ".py",
   "mimetype": "text/x-python",
   "name": "python",
   "nbconvert_exporter": "python",
   "pygments_lexer": "ipython3",
   "version": "3.9.7"
  },
  "orig_nbformat": 4,
  "vscode": {
   "interpreter": {
    "hash": "9a538a63f4ba9332b05e2a8df6b9e4a9f95fb4c949297fa78530a4e8c1bbc197"
   }
  }
 },
 "nbformat": 4,
 "nbformat_minor": 2
}
