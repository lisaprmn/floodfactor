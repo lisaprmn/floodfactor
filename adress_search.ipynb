{
 "cells": [
  {
   "cell_type": "code",
   "execution_count": 33,
   "metadata": {},
   "outputs": [],
   "source": [
    "import pandas as pd\n",
    "import pyodbc\n",
    "from sqlpush.sqlstd import *\n",
    "from sqlpush.config import *"
   ]
  },
  {
   "cell_type": "code",
   "execution_count": 49,
   "metadata": {},
   "outputs": [
    {
     "data": {
      "text/plain": [
       "94"
      ]
     },
     "execution_count": 49,
     "metadata": {},
     "output_type": "execute_result"
    }
   ],
   "source": [
    "# how to fuzzy match : \n",
    "from fuzzywuzzy import fuzz\n",
    "from fuzzywuzzy import process\n",
    "fuzz.token_sort_ratio(\"Catherine Gitau M.\", \"Gitau Catherine\")\n",
    "fuzz.partial_ratio(\"Catherine M. Gitau\",\"Catherine Gitau\")"
   ]
  },
  {
   "cell_type": "code",
   "execution_count": 35,
   "metadata": {},
   "outputs": [],
   "source": [
    "# Prepare connection\n",
    "cursor, conn = connectdb(config)"
   ]
  },
  {
   "cell_type": "code",
   "execution_count": 70,
   "metadata": {},
   "outputs": [],
   "source": [
    "# let's define all the needed functions\n",
    "\n",
    "def getdata(cursor):\n",
    "    query = \"SELECT * FROM belgium_addresses \"\n",
    "    cursor.execute(query)\n",
    "    tablecol = [i[0] for i in cursor.fetchall()]\n",
    "    return tablecol\n",
    "\n",
    "\n",
    "def get_street_id_from_postcode(cursor, postcode):\n",
    "    query = \"SELECT street_id FROM belgium_streets WHERE postcode = '%s'\" %(postcode)\n",
    "    cursor.execute(query)\n",
    "    tablecol = [i[0] for i in cursor.fetchall()]\n",
    "    return tablecol\n",
    "\n",
    "def get_language(streetname):\n",
    "    streetname = streetname.lower()\n",
    "    language = \"None\"\n",
    "    if \"straat\" in streetname :\n",
    "        language = \"NL\"\n",
    "    elif \"laan\" in streetname :\n",
    "        language = \"NL\"\n",
    "    elif \"rue\" in streetname :\n",
    "        language = \"FR\"\n",
    "    elif \"avenue\" in streetname :\n",
    "        language = \"FR\"\n",
    "    elif \"boulevard\" in streetname :\n",
    "        language = \"FR\"\n",
    "    elif \"square \" in streetname :\n",
    "        language = \"FR\"\n",
    "    elif \"allées\" in streetname :\n",
    "        language = \"FR\"\n",
    "    else : \n",
    "        language = \"None\"\n",
    "    return language\n",
    "\n",
    "def get_street_names_from_postcode_lg(cursor, postcode, language):\n",
    "    if language == \"FR\" :\n",
    "        query = \"SELECT streetname_fr FROM belgium_streets WHERE postcode = '%s'\" %(postcode)\n",
    "        cursor.execute(query)\n",
    "        tablecol = [i[0] for i in cursor.fetchall()]\n",
    "    elif language == \"NL\" :\n",
    "        query = \"SELECT streetname_nl FROM belgium_streets WHERE postcode = '%s'\" %(postcode)\n",
    "        cursor.execute(query)\n",
    "        tablecol = [i[0] for i in cursor.fetchall()]\n",
    "    else : \n",
    "        query = \"SELECT streetname_fr, streetname_nl FROM belgium_streets WHERE postcode = '%s'\" %(postcode)\n",
    "        cursor.execute(query)\n",
    "        tablecol = cursor.fetchall()\n",
    "    return tablecol\n",
    "\n",
    "# I need a function that will take a list of names as input and a search term\n",
    "# will build another list with fuzzy match score, and return the value with the highest score\n",
    "def get_best_matching(list_of_streets, term) :\n",
    "    scores = []\n",
    "    for element in list_of_streets : \n",
    "        scores = scores + fuzz.token_sort_ratio(element, term)\n",
    "    return scores\n",
    "\n",
    "# takes as input a 2D list, outupts a 1D list\n",
    "def transform_list(street_n_list) : \n",
    "    total_list = []\n",
    "    for element in street_n_list : \n",
    "        total_list = total_list + element[0] + element[1]\n",
    "\n",
    "def get_best_address_given_scores(scores, list_of_streets):\n",
    "    max_value = max(scores) \n",
    "    max_index = scores. index(max_value)\n",
    "    return list_of_streets[max_index]"
   ]
  },
  {
   "cell_type": "code",
   "execution_count": 56,
   "metadata": {},
   "outputs": [],
   "source": [
    "# let's implement the algorithm\n",
    "\n",
    "# take the inputs : postcode, streetname and house number\n",
    "postcode = input(\"Ener postcode : \")\n",
    "streetname = input(\"Enter streetname : \")\n",
    "house_number = input(\"Enter house number : \")"
   ]
  },
  {
   "cell_type": "code",
   "execution_count": 66,
   "metadata": {},
   "outputs": [],
   "source": [
    "street_ids = get_street_id_from_postcode(cursor, \"1040\")"
   ]
  },
  {
   "cell_type": "code",
   "execution_count": null,
   "metadata": {},
   "outputs": [],
   "source": [
    "if len(street_ids)>0 :\n",
    "    language = get_language(streetname)\n",
    "    if language == \"None\" : \n",
    "        sn_none = get_street_names_from_postcode_lg(cursor, postcode, language)\n",
    "        sn_none = transform_list(sn_none)\n",
    "        scores = get_best_matching(sn_none, streetname)\n",
    "    else : \n",
    "        sn = get_street_names_from_postcode_lg(cursor, postcode, language)\n",
    "        scores = get_best_matching(sn, streetname)\n",
    "    "
   ]
  }
 ],
 "metadata": {
  "kernelspec": {
   "display_name": "Python 3.9.7 ('lstm_env')",
   "language": "python",
   "name": "python3"
  },
  "language_info": {
   "codemirror_mode": {
    "name": "ipython",
    "version": 3
   },
   "file_extension": ".py",
   "mimetype": "text/x-python",
   "name": "python",
   "nbconvert_exporter": "python",
   "pygments_lexer": "ipython3",
   "version": "3.9.7"
  },
  "orig_nbformat": 4,
  "vscode": {
   "interpreter": {
    "hash": "9a538a63f4ba9332b05e2a8df6b9e4a9f95fb4c949297fa78530a4e8c1bbc197"
   }
  }
 },
 "nbformat": 4,
 "nbformat_minor": 2
}
